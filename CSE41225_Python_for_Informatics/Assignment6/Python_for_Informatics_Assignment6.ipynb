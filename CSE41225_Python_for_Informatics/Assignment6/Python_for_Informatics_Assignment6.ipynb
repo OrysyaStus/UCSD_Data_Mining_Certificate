{
 "cells": [
  {
   "cell_type": "markdown",
   "metadata": {},
   "source": [
    "### Python for Informatics ###\n",
    "Assignment 6\n",
    "\"URL Reader\"\n",
    "\n",
    "## Orysya Stus ##\n",
    "10.4.2016"
   ]
  },
  {
   "cell_type": "code",
   "execution_count": 6,
   "metadata": {
    "collapsed": false
   },
   "outputs": [
    {
     "name": "stdout",
     "output_type": "stream",
     "text": [
      "Enter a URL to read from: https://www.linkedin.com/\n",
      "The first 3000 characters are:  ['s', 'c', 'r', 'i', 'p', 't', 's', 'r', 'c', 'h', 't', 't', 'p', 's', 's', 't', 'a', 't', 'i', 'c', 'l', 'i', 'c', 'd', 'n', 'c', 'o', 'm', 's', 'c', 'd', 's', 'c', 'o', 'm', 'm', 'o', 'n', 'u', 'l', 'i', 'b', 'f', 'i', 'z', 'z', 'y', 'f', 'z', 'm', 'i', 'n', 'j', 's', 't', 'y', 'p', 'e', 't', 'e', 'x', 't', 'j', 'a', 'v', 'a', 's', 'c', 'r', 'i', 'p', 't', 's', 'c', 'r', 'i', 'p', 't', 's', 'c', 'r', 'i', 'p', 't', 't', 'y', 'p', 'e', 't', 'e', 'x', 't', 'j', 'a', 'v', 'a', 's', 'c', 'r', 'i', 'p', 't', 'f', 's', 'c', 'o', 'n', 'f', 'i', 'g', 'f', 'a', 'i', 'l', 'u', 'r', 'e', 'R', 'e', 'd', 'i', 'r', 'e', 'c', 't', 'h', 't', 't', 'p', 's', 'w', 'w', 'w', 'l', 'i', 'n', 'k', 'e', 'd', 'i', 'n', 'c', 'o', 'm', 'e', 'r', 'r', 'o', 'r', 'p', 'a', 'g', 'e', 's', 'u', 'n', 'p', 'l', 'a', 'n', 'n', 'e', 'd', 'm', 'a', 'i', 'n', 't', 'e', 'n', 'a', 'n', 'c', 'e', 'u', 'n', 'i', 'E', 's', 'c', 'a', 'p', 'e', 't', 'r', 'u', 'e', 'x', 'h', 'r', 'H', 'e', 'a', 'd', 'e', 'r', 's', 'X', 'F', 'S', 'O', 'r', 'i', 'g', 'i', 'n', 'R', 'e', 'q', 'u', 'e', 's', 't', 'h', 'p', 'X', 'F', 'S', 'P', 'a', 'g', 'e', 'I', 'd', 'o', 'z', 'w', 'i', 'n', 'n', 'e', 'r', 'g', 'u', 'e', 's', 't', 's', 'c', 'r', 'i', 'p', 't', 's', 'c', 'r', 'i', 'p', 't', 't', 'y', 'p', 'e', 't', 'e', 'x', 't', 'j', 'a', 'v', 'a', 's', 'c', 'r', 'i', 'p', 't', 'f', 's', 's', 'e', 'r', 'v', 'e', 'r', 'f', 'i', 'r', 'e', 'g', 'u', 'e', 's', 't', 'h', 'o', 'm', 'e', 'e', 'v', 'e', 'n', 't', 'b', 'e', 'f', 'o', 'r', 'e', 't', 'y', 'p', 'e', 'h', 't', 'm', 'l', 's', 'c', 'r', 'i', 'p', 't', 'D', 'O', 'C', 'T', 'Y', 'P', 'E', 'h', 't', 'm', 'l', 'i', 'f', 'l', 't', 'I', 'E', 'h', 't', 'm', 'l', 'l', 'a', 'n', 'g', 'e', 'n', 'c', 'l', 'a', 's', 's', 'i', 'e', 'i', 'e', 'l', 't', 'e', 'l', 't', 'e', 'l', 't', 'e', 'o', 's', 'o', 't', 'h', 'e', 'r', 'e', 'n', 'd', 'i', 'f', 'i', 'f', 'I', 'E', 'h', 't', 'm', 'l', 'l', 'a', 'n', 'g', 'e', 'n', 'c', 'l', 'a', 's', 's', 'i', 'e', 'i', 'e', 'l', 't', 'e', 'l', 't', 'e', 'l', 't', 'e', 'o', 's', 'o', 't', 'h', 'e', 'r', 'e', 'n', 'd', 'i', 'f', 'i', 'f', 'I', 'E', 'h', 't', 'm', 'l', 'l', 'a', 'n', 'g', 'e', 'n', 'c', 'l', 'a', 's', 's', 'i', 'e', 'i', 'e', 'l', 't', 'e', 'l', 't', 'e', 'o', 's', 'o', 't', 'h', 'e', 'r', 'e', 'n', 'd', 'i', 'f', 'i', 'f', 'I', 'E', 'h', 't', 'm', 'l', 'l', 'a', 'n', 'g', 'e', 'n', 'c', 'l', 'a', 's', 's', 'i', 'e', 'i', 'e', 'l', 't', 'e', 'o', 's', 'o', 't', 'h', 'e', 'r', 'e', 'n', 'd', 'i', 'f', 'i', 'f', 'g', 't', 'I', 'E', 'h', 't', 'm', 'l', 'l', 'a', 'n', 'g', 'e', 'n', 'c', 'l', 'a', 's', 's', 'o', 's', 'o', 't', 'h', 'e', 'r', 'e', 'n', 'd', 'i', 'f', 'i', 'f', 'I', 'E', 'h', 't', 'm', 'l', 'l', 'a', 'n', 'g', 'e', 'n', 'c', 'l', 'a', 's', 's', 'o', 's', 'o', 't', 'h', 'e', 'r', 'e', 'n', 'd', 'i', 'f', 'h', 'e', 'a', 'd', 'm', 'e', 't', 'a', 'c', 'h', 'a', 'r', 's', 'e', 't', 'U', 'T', 'F', 't', 'i', 't', 'l', 'e', 'W', 'o', 'r', 'l', 'd', 's', 'L', 'a', 'r', 'g', 'e', 's', 't', 'P', 'r', 'o', 'f', 'e', 's', 's', 'i', 'o', 'n', 'a', 'l', 'N', 'e', 't', 'w', 'o', 'r', 'k', 'L', 'i', 'n', 'k', 'e', 'd', 'I', 'n', 't', 'i', 't', 'l', 'e', 'm', 'e', 't', 'a', 'n', 'a', 'm', 'e', 'r', 'e', 'f', 'e', 'r', 'r', 'e', 'r', 'c', 'o', 'n', 't', 'e', 'n', 't', 'o', 'r', 'i', 'g', 'i', 'n', 'm', 'e', 't', 'a', 'h', 't', 't', 'p', 'e', 'q', 'u', 'i', 'v', 'X', 'U', 'A', 'C', 'o', 'm', 'p', 'a', 't', 'i', 'b', 'l', 'e', 'c', 'o', 'n', 't', 'e', 'n', 't', 'I', 'E', 'e', 'd', 'g', 'e', 'm', 'e', 't', 'a', 'n', 'a', 'm', 'e', 'p', 'a', 'g', 'e', 'I', 'm', 'p', 'r', 'e', 's', 's', 'i', 'o', 'n', 'I', 'D', 'c', 'o', 'n', 't', 'e', 'n', 't', 'd', 'd', 'f', 'b', 'b', 'm', 'e', 't', 'a', 'n', 'a', 'm', 'e', 'a', 'p', 'p', 'N', 'a', 'm', 'e', 'c', 'o', 'n', 't', 'e', 'n', 't', 'c', 'h', 'r', 'o', 'm', 'e', 'm', 'e', 't', 'a', 'n', 'a', 'm', 'e', 'p', 'a', 'g', 'e', 'K', 'e', 'y', 'c', 'o', 'n', 't', 'e', 'n', 't', 'u', 'n', 'o', 'r', 'e', 'g', 'g', 'u', 'e', 's', 't', 'h', 'o', 'm', 'e', 'm', 'e', 't', 'a', 'n', 'a', 'm', 'e', 't', 'r', 'e', 'e', 'I', 'D', 'c', 'o', 'n', 't', 'e', 'n', 't', 'Y', 'a', 'b', 'q', 'Q', 'p', 'e', 'h', 'Q', 'g', 'y', 'E', 'M', 'y', 'q', 'y', 'o', 'A', 'A', 'A', 'm', 'e', 't', 'a', 'n', 'a', 'm', 'e', 'g', 'l', 'o', 'b', 'a', 'l', 'T', 'r', 'a', 'c', 'k', 'i', 'n', 'g', 'U', 'r', 'l', 'c', 'o', 'n', 't', 'e', 'n', 't', 'w', 'w', 'w', 'l', 'i', 'n', 'k', 'e', 'd', 'i', 'n', 'c', 'o', 'm', 'm', 'o', 'b', 't', 'r', 'a', 'c', 'k', 'i', 'n', 'g', 'm', 'e', 't', 'a', 'n', 'a', 'm', 'e', 'g', 'l', 'o', 'b', 'a', 'l', 'T', 'r', 'a', 'c', 'k', 'i', 'n', 'g', 'A', 'p', 'p', 'N', 'a', 'm', 'e', 'c', 'o', 'n', 't', 'e', 'n', 't', 'c', 'h', 'r', 'o', 'm', 'e', 'm', 'e', 't', 'a', 'n', 'a', 'm', 'e', 'g', 'l', 'o', 'b', 'a', 'l', 'T', 'r', 'a', 'c', 'k', 'i', 'n', 'g', 'A', 'p', 'p', 'I', 'd', 'c', 'o', 'n', 't', 'e', 'n', 't', 'w', 'e', 'b', 'T', 'r', 'a', 'c', 'k', 'i', 'n', 'g', 'i', 'f', 'l', 't', 'e', 'I', 'E', 'l', 'i', 'n', 'k', 'r', 'e', 'l', 's', 'h', 'o', 'r', 't', 'c', 'u', 't', 'i', 'c', 'o', 'n', 'h', 'r', 'e', 'f', 'h', 't', 't', 'p', 's', 's', 't', 'a', 't', 'i', 'c', 'l', 'i', 'c', 'd', 'n', 'c', 'o', 'm', 's', 'c', 'd', 's', 'c', 'o', 'm', 'm', 'o', 'n', 'u', 'i', 'm', 'a', 'g', 'e', 's', 'l', 'o', 'g', 'o', 's', 'f', 'a', 'v', 'i', 'c', 'o', 'n', 's', 'v', 'x', 'f', 'a', 'v', 'i', 'c', 'o', 'n', 'i', 'c', 'o', 'e', 'n', 'd', 'i', 'f', 'i', 'f', 'I', 'E', 'l', 'i', 'n', 'k', 'r', 'e', 'l', 's', 'h', 'o', 'r', 't', 'c', 'u', 't', 'i', 'c', 'o', 'n', 'h', 'r', 'e', 'f', 'h', 't', 't', 'p', 's', 's', 't', 'a', 't', 'i', 'c', 'l', 'i', 'c', 'd', 'n', 'c', 'o', 'm', 's', 'c', 'd', 's', 'c', 'o', 'm', 'm', 'o', 'n', 'u', 'i', 'm', 'a', 'g', 'e', 's', 'l', 'o', 'g', 'o', 's', 'f', 'a', 'v', 'i', 'c', 'o', 'n', 's', 'v', 'f', 'a', 'v', 'i', 'c', 'o', 'n', 'i', 'c', 'o', 'e', 'n', 'd', 'i', 'f', 'l', 'i', 'n', 'k', 'r', 'e', 'l', 'i', 'c', 'o', 'n', 'h', 'r', 'e', 'f', 'h', 't', 't', 'p', 's', 's', 't', 'a', 't', 'i', 'c', 'l', 'i', 'c', 'd', 'n', 'c', 'o', 'm', 's', 'c', 'd', 's', 'c', 'o', 'm', 'm', 'o', 'n', 'u', 'i', 'm', 'a', 'g', 'e', 's', 'l', 'o', 'g', 'o', 's', 'f', 'a', 'v', 'i', 'c', 'o', 'n', 's', 'v', 'f', 'a', 'v', 'i', 'c', 'o', 'n', 'i', 'c', 'o', 'l', 'i', 'n', 'k', 'r', 'e', 'l', 'a', 'p', 'p', 'l', 'e', 't', 'o', 'u', 'c', 'h', 'i', 'c', 'o', 'n', 'p', 'r', 'e', 'c', 'o', 'm', 'p', 'o', 's', 'e', 'd', 'h', 'r', 'e', 'f', 'h', 't', 't', 'p', 's', 's', 't', 'a', 't', 'i', 'c', 'l', 'i', 'c', 'd', 'n', 'c', 'o', 'm', 's', 'c', 'd', 's', 'c', 'o', 'm', 'm', 'o', 'n', 'u', 'i', 'm', 'g', 'i', 'c', 'o', 'n', 'a', 'p', 'p', 'l', 'e', 't', 'o', 'u', 'c', 'h', 'i', 'c', 'o', 'n', 'p', 'n', 'g', 'm', 'e', 't', 'a', 'n', 'a', 'm', 'e', 'm', 's', 'a', 'p', 'p', 'l', 'i', 'c', 'a', 't', 'i', 'o', 'n', 'T', 'i', 'l', 'e', 'I', 'm', 'a', 'g', 'e', 'c', 'o', 'n', 't', 'e', 'n', 't', 'h', 't', 't', 'p', 's', 's', 't', 'a', 't', 'i', 'c', 'l', 'i', 'c', 'd', 'n', 'c', 'o', 'm', 's', 'c', 'd', 's', 'c', 'o', 'm', 'm', 'o', 'n', 'u', 'i', 'm', 'a', 'g', 'e', 's', 'l', 'o', 'g', 'o', 's', 'l', 'i', 'n', 'k', 'e', 'd', 'i', 'n', 'l', 'o', 'g', 'o', 'i', 'n', 'w', 'i', 'n', 't', 'i', 'l', 'e', 'v', 'p', 'n', 'g', 'm', 'e', 't', 'a', 'n', 'a', 'm', 'e', 'm', 's', 'a', 'p', 'p', 'l', 'i', 'c', 'a', 't', 'i', 'o', 'n', 'T', 'i', 'l', 'e', 'C', 'o', 'l', 'o', 'r', 'c', 'o', 'n', 't', 'e', 'n', 't', 'B', 'm', 'e', 't', 'a', 'n', 'a', 'm', 'e', 'a', 'p', 'p', 'l', 'i', 'c', 'a', 't', 'i', 'o', 'n', 'n', 'a', 'm', 'e', 'c', 'o', 'n', 't', 'e', 'n', 't', 'L', 'i', 'n', 'k', 'e', 'd', 'I', 'n', 's', 'c', 'r', 'i', 'p', 't', 't', 'y', 'p', 'e', 't', 'e', 'x', 't', 'j', 'a', 'v', 'a', 's', 'c', 'r', 'i', 'p', 't', 's', 'r', 'c', 'h', 't', 't', 'p', 's', 's', 't', 'a', 't', 'i', 'c', 'l', 'i', 'c', 'd', 'n', 'c', 'o', 'm', 's', 'c', 'd', 's', 'c', 'o', 'n', 'c', 'a', 't', 'c', 'o', 'm', 'm', 'o', 'n', 'j', 's', 'h', 'n', 'd', 'r', 'n', 'f', 'f', 'w', 'h', 'u', 'm', 'u', 'o', 'q', 'c', 'j', 'c', 'n', 'z', 'n', 'e', 'd', 'd', 'r', 't', 'd', 'n', 'w', 'j', 'd', 'c', 'j', 'b', 'n', 'h', 'c', 's', 'c', 'r', 'i', 'p', 't', 's', 'c', 'r', 'i', 'p', 't', 's', 'c', 'r', 'i', 'p', 't', 'i', 'f', 'I', 'E', 's', 'c', 'r', 'i', 'p', 't', 's', 'r', 'c', 'h', 't', 't', 'p', 's', 's', 't', 'a', 't', 'i', 'c', 'l', 'i', 'c', 'd', 'n', 'c', 'o', 'm', 's', 'c', 'd', 's', 'c', 'o', 'm', 'm', 'o', 'n', 'u', 'l', 'i', 'b', 'p', 'o', 'l', 'y', 'f', 'i', 'l', 'l', 'i', 'e', 'p', 'o', 'l', 'y', 'f', 'i', 'l', 'l', 'm', 'i', 'n', 'j', 's', 's', 'c', 'r', 'i', 'p', 't', 'e', 'n', 'd', 'i', 'f', 'i', 'f', 'I', 'E', 's', 'c', 'r', 'i', 'p', 't', 's', 'r', 'c', 'h', 't', 't', 'p', 's', 's', 't', 'a', 't', 'i', 'c', 'l', 'i', 'c', 'd', 'n', 'c', 'o', 'm', 's', 'c', 'd', 's', 'c', 'o', 'm', 'm', 'o', 'n', 'u', 'l', 'i', 'b', 'p', 'o', 'l', 'y', 'f', 'i', 'l', 'l', 'i', 'e', 'p', 'o', 'l', 'y', 'f', 'i', 'l', 'l', 'm', 'i', 'n', 'j', 's', 's', 'c', 'r', 'i', 'p', 't', 'e', 'n', 'd', 'i', 'f', 'm', 'e', 't', 'a', 'n', 'a', 'm', 'e', 'l', 'n', 'k', 'd', 't', 'r', 'a', 'c', 'k', 'j', 's', 'o', 'n', 'l', 'i', 'b', 'c', 'o', 'n', 't', 'e', 'n', 't', 'h', 't', 't', 'p', 's', 's', 't', 'a', 't', 'i', 'c', 'l', 'i', 'c', 'd', 'n', 'c', 'o', 'm', 's', 'c', 'd', 's', 'c', 'o', 'n', 'c', 'a', 't', 'c', 'o', 'm', 'm', 'o', 'n', 'j', 's', 'h', 'j', 'd', 's', 'c', 'o', 'e', 'h', 'w', 'e', 'd', 'w', 'b', 'l', 's', 'c', 'v', 'v', 'e', 'b', 'b', 't', 'v', 'i', 'x', 'c', 'c', 'q', 'z', 'o', 't', 't', 's', 'i', 'o', 'x', 'v', 'm', 'e', 't', 'a', 'n', 'a', 'm', 'e', 'l', 'n', 'k', 'd', 't', 'r', 'a', 'c', 'k', 'l', 'i', 'b', 'c', 'o', 'n', 't', 'e', 'n', 't', 'h', 't', 't', 'p', 's', 's', 't', 'a', 't', 'i', 'c', 'l', 'i', 'c', 'd', 'n', 'c', 'o', 'm', 's', 'c', 'd', 's', 'c', 'o', 'n', 'c', 'a', 't', 'c', 'o', 'm', 'm', 'o', 'n', 'j', 's', 'h', 'e', 'b', 'b', 't', 'v', 'i', 'x', 'c', 'c', 'q', 'z', 'o', 't', 't', 's', 'i', 'o', 'x', 'v', 'm', 'e', 't', 'a', 'n', 'a', 'm', 'e', 'l', 'n', 'k', 'd', 't', 'r', 'a', 'c', 'k', 'e', 'r', 'r', 'o', 'r', 'c', 'o', 'n', 't', 'e', 'n', 't', 'l', 'i', 't', 'e', 'u', 'a', 'e', 'r']\n",
      "The length of the entire document is:  26583\n"
     ]
    }
   ],
   "source": [
    "import urllib\n",
    "import re\n",
    "\n",
    "try: \n",
    "    url = raw_input('Enter a URL to read from: ')\n",
    "    fhand = urllib.urlopen(url)\n",
    "    count = 0;\n",
    "    adjusted_3000 = []\n",
    "    while count < 3000:\n",
    "        new_char = fhand.read(1)\n",
    "        adjusted_3000 = adjusted_3000 + re.findall('[A-Za-z]', new_char) # only characters upper and lowercase a-z.\n",
    "        count += 1\n",
    "    print 'The first 3000 characters are: ', adjusted_3000\n",
    "    \n",
    "    new_chars = fhand.read()\n",
    "    entire_doc = adjusted_3000 + re.findall('[A-Za-z]', new_chars)\n",
    "    print 'The length of the entire document is: ', len(entire_doc)    \n",
    "except: \n",
    "    print \"Improperly formatted or non-existent URL\""
   ]
  },
  {
   "cell_type": "code",
   "execution_count": null,
   "metadata": {
    "collapsed": true
   },
   "outputs": [],
   "source": []
  }
 ],
 "metadata": {
  "kernelspec": {
   "display_name": "Python 2",
   "language": "python",
   "name": "python2"
  },
  "language_info": {
   "codemirror_mode": {
    "name": "ipython",
    "version": 2
   },
   "file_extension": ".py",
   "mimetype": "text/x-python",
   "name": "python",
   "nbconvert_exporter": "python",
   "pygments_lexer": "ipython2",
   "version": "2.7.10"
  }
 },
 "nbformat": 4,
 "nbformat_minor": 0
}
