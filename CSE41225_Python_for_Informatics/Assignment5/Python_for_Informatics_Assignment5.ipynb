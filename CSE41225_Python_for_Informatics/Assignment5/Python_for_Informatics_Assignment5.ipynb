{
 "cells": [
  {
   "cell_type": "markdown",
   "metadata": {},
   "source": [
    "### Python for Informatics ###\n",
    "Assignment 5\n",
    "\"Message Frequency Count\"\n",
    "\n",
    "## Orysya Stus ##\n",
    "10.4.2016"
   ]
  },
  {
   "cell_type": "code",
   "execution_count": 4,
   "metadata": {
    "collapsed": false
   },
   "outputs": [
    {
     "name": "stdout",
     "output_type": "stream",
     "text": [
      "Please enter file name: C:\\Users\\Orysya\\Desktop\\Python_for_Informatics\\Assignment5\\mbox.txt\n",
      "zqian@umich.edu 390\n"
     ]
    }
   ],
   "source": [
    "file = raw_input('Please enter file name: ')\n",
    "handle = open(file)\n",
    "data1 = list()\n",
    "data2 = dict()\n",
    "for line in handle:\n",
    "    line = line.rstrip()\n",
    "    if not line.startswith('From'):\n",
    "        continue\n",
    "    line = line.split()\n",
    "    line = line[1]\n",
    "    data1.append(line)\n",
    "for i in data1:\n",
    "    data2[i] = data2.get(i,0)+1\n",
    "\n",
    "word = None\n",
    "max = None\n",
    "\n",
    "for aa, bb in data2.items():\n",
    "    if max is None or bb > max:\n",
    "        word = aa\n",
    "        max = bb\n",
    "\n",
    "print word, max"
   ]
  }
 ],
 "metadata": {
  "kernelspec": {
   "display_name": "Python 2",
   "language": "python",
   "name": "python2"
  },
  "language_info": {
   "codemirror_mode": {
    "name": "ipython",
    "version": 2
   },
   "file_extension": ".py",
   "mimetype": "text/x-python",
   "name": "python",
   "nbconvert_exporter": "python",
   "pygments_lexer": "ipython2",
   "version": "2.7.10"
  }
 },
 "nbformat": 4,
 "nbformat_minor": 0
}
