{
 "cells": [
  {
   "cell_type": "markdown",
   "metadata": {},
   "source": [
    "### Python for Informatics ###\n",
    "Assignment 1\n",
    "\"Mean\"\n",
    "\n",
    "## Orysya Stus ##\n",
    "9.30.2016"
   ]
  },
  {
   "cell_type": "code",
   "execution_count": 13,
   "metadata": {
    "collapsed": false
   },
   "outputs": [
    {
     "name": "stdout",
     "output_type": "stream",
     "text": [
      "Enter 1st floating number: 2\n"
     ]
    }
   ],
   "source": [
    "num1 = raw_input(\"Enter 1st floating number: \")"
   ]
  },
  {
   "cell_type": "code",
   "execution_count": 5,
   "metadata": {
    "collapsed": false
   },
   "outputs": [
    {
     "name": "stdout",
     "output_type": "stream",
     "text": [
      "Enter 2st floating number: 3\n"
     ]
    }
   ],
   "source": [
    "num2 = raw_input(\"Enter 2st floating number: \")"
   ]
  },
  {
   "cell_type": "code",
   "execution_count": 6,
   "metadata": {
    "collapsed": false
   },
   "outputs": [
    {
     "name": "stdout",
     "output_type": "stream",
     "text": [
      "Enter 3st floating number: 1.0\n"
     ]
    }
   ],
   "source": [
    "num3 = raw_input(\"Enter 3st floating number: \")"
   ]
  },
  {
   "cell_type": "code",
   "execution_count": 7,
   "metadata": {
    "collapsed": false
   },
   "outputs": [
    {
     "name": "stdout",
     "output_type": "stream",
     "text": [
      "Enter 4st floating number: 9.0\n"
     ]
    }
   ],
   "source": [
    "num4 = raw_input(\"Enter 4st floating number: \")"
   ]
  },
  {
   "cell_type": "code",
   "execution_count": 8,
   "metadata": {
    "collapsed": false
   },
   "outputs": [
    {
     "name": "stdout",
     "output_type": "stream",
     "text": [
      "Enter 5st floating number: 3\n"
     ]
    }
   ],
   "source": [
    "num5 = raw_input(\"Enter 5st floating number: \")"
   ]
  },
  {
   "cell_type": "code",
   "execution_count": 14,
   "metadata": {
    "collapsed": false
   },
   "outputs": [
    {
     "name": "stdout",
     "output_type": "stream",
     "text": [
      "The floating number mean is 3.6\n"
     ]
    }
   ],
   "source": [
    "floating_number_mean = (0.0+float(num1)+float(num2)+float(num3)+float(num4)+float(num5))/5\n",
    "print \"The floating number mean is\", floating_number_mean"
   ]
  },
  {
   "cell_type": "code",
   "execution_count": null,
   "metadata": {
    "collapsed": true
   },
   "outputs": [],
   "source": []
  }
 ],
 "metadata": {
  "kernelspec": {
   "display_name": "Python 2",
   "language": "python",
   "name": "python2"
  },
  "language_info": {
   "codemirror_mode": {
    "name": "ipython",
    "version": 2
   },
   "file_extension": ".py",
   "mimetype": "text/x-python",
   "name": "python",
   "nbconvert_exporter": "python",
   "pygments_lexer": "ipython2",
   "version": "2.7.10"
  }
 },
 "nbformat": 4,
 "nbformat_minor": 0
}
