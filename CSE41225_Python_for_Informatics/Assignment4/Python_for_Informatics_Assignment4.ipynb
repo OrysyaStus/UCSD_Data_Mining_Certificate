{
 "cells": [
  {
   "cell_type": "markdown",
   "metadata": {},
   "source": [
    "### Python for Informatics ###\n",
    "Assignment 4\n",
    "\"Files, Lists, and Split\"\n",
    "\n",
    "## Orysya Stus ##\n",
    "10.4.2016"
   ]
  },
  {
   "cell_type": "code",
   "execution_count": 112,
   "metadata": {
    "collapsed": false
   },
   "outputs": [
    {
     "name": "stdout",
     "output_type": "stream",
     "text": [
      "Enter a filename: C:\\Users\\Orysya\\Desktop\\Python_for_Informatics\\Assignment4\\romeo.txt\n",
      "Enter a string of interest: a\n",
      "['Arise', 'But', 'It', 'Juliet', 'Who', 'already', 'and', 'breaks', 'east', 'envious', 'fair', 'grief', 'is', 'kill', 'light', 'moon', 'pale', 'sick', 'soft', 'sun', 'the', 'through', 'what', 'window', 'with', 'yonder']\n",
      "The string a occurs 8 times\n"
     ]
    }
   ],
   "source": [
    "#local_directory = 'C:\\Users\\Orysya\\Desktop\\Python_for_Informatics\\Assignment4\\romeo.txt'\n",
    "file_name = raw_input(\"Enter a filename: \")\n",
    "string = raw_input(\"Enter a string of interest: \")\n",
    "handle = open(file_name)\n",
    "script_list = list()\n",
    "\n",
    "for line_list in handle:\n",
    "    line_list = line_list.rstrip()\n",
    "    line_list = line_list.split()\n",
    "    for i in line_list:\n",
    "        if i in script_list:\n",
    "            continue\n",
    "        else:\n",
    "            script_list.append(i)\n",
    "script_list.sort()\n",
    "print script_list\n",
    "\n",
    "freq_count(string, script_list)"
   ]
  },
  {
   "cell_type": "code",
   "execution_count": 111,
   "metadata": {
    "collapsed": false
   },
   "outputs": [],
   "source": [
    "def freq_count(string, list_things):\n",
    "    count = 0\n",
    "    for thing in list_things:\n",
    "        A = [m.start() for m in re.finditer(string, thing)]\n",
    "        for i in A:\n",
    "            if i >= 0:\n",
    "                count = count + 1\n",
    "            else:\n",
    "                count = count\n",
    "    print 'The string', string, 'occurs', count, 'times'"
   ]
  }
 ],
 "metadata": {
  "kernelspec": {
   "display_name": "Python 2",
   "language": "python",
   "name": "python2"
  },
  "language_info": {
   "codemirror_mode": {
    "name": "ipython",
    "version": 2
   },
   "file_extension": ".py",
   "mimetype": "text/x-python",
   "name": "python",
   "nbconvert_exporter": "python",
   "pygments_lexer": "ipython2",
   "version": "2.7.10"
  }
 },
 "nbformat": 4,
 "nbformat_minor": 0
}
