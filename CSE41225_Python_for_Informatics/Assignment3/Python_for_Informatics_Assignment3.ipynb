{
 "cells": [
  {
   "cell_type": "markdown",
   "metadata": {},
   "source": [
    "### Python for Informatics ###\n",
    "Assignment 3\n",
    "\"Looping, Searching, and Slicing\"\n",
    "\n",
    "## Orysya Stus ##\n",
    "10.3.2016"
   ]
  },
  {
   "cell_type": "code",
   "execution_count": 14,
   "metadata": {
    "collapsed": false
   },
   "outputs": [
    {
     "name": "stdout",
     "output_type": "stream",
     "text": [
      "Enter number: done\n"
     ]
    }
   ],
   "source": [
    "num = raw_input(\"Enter number: \")\n",
    "total = 0\n",
    "count = 0\n",
    "list_num = []\n",
    "average = 0\n",
    "while num != 'done':\n",
    "    num = int(num)\n",
    "    total = total + num\n",
    "    count = count + 1\n",
    "    list_num.append(num)\n",
    "    maximum = max(list_num)\n",
    "    minimum = min(list_num)\n",
    "    average = total/count\n",
    "    print 'The total is:', total\n",
    "    print 'The count is:', count\n",
    "    print 'The maximum is:', maximum\n",
    "    print 'The minimum is:', minimum\n",
    "    print 'The average is:', average\n",
    "    num = raw_input(\"Enter number: \")"
   ]
  },
  {
   "cell_type": "code",
   "execution_count": 15,
   "metadata": {
    "collapsed": false
   },
   "outputs": [
    {
     "name": "stdout",
     "output_type": "stream",
     "text": [
      "The floating number is 0.72903\n"
     ]
    }
   ],
   "source": [
    "avg_string = 'Average value read: 0.72903'\n",
    "begin = avg_string.find(':')\n",
    "number = float(avg_string[begin+2: ])\n",
    "print 'The floating number is', number"
   ]
  }
 ],
 "metadata": {
  "kernelspec": {
   "display_name": "Python 2",
   "language": "python",
   "name": "python2"
  },
  "language_info": {
   "codemirror_mode": {
    "name": "ipython",
    "version": 2
   },
   "file_extension": ".py",
   "mimetype": "text/x-python",
   "name": "python",
   "nbconvert_exporter": "python",
   "pygments_lexer": "ipython2",
   "version": "2.7.10"
  }
 },
 "nbformat": 4,
 "nbformat_minor": 0
}
